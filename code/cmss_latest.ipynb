{
 "cells": [
  {
   "cell_type": "code",
   "execution_count": 45,
   "metadata": {
    "cell_id": "1aafd3bb-55a1-4f9d-ac44-425bc8682c2d",
    "deepnote_cell_height": 315,
    "deepnote_cell_type": "code",
    "deepnote_to_be_reexecuted": false,
    "execution_millis": 2028,
    "execution_start": 1657129967600,
    "source_hash": "8aed1194",
    "tags": []
   },
   "outputs": [],
   "source": [
    "import pandas as pd\n",
    "import numpy as np\n",
    "import random\n",
    "import math\n",
    "import matplotlib.pyplot as plt\n",
    "import collections\n",
    "from scipy import stats\n",
    "\n",
    "from mesa import Model, Agent\n",
    "from mesa.time import SimultaneousActivation\n",
    "from mesa.space import MultiGrid\n",
    "from mesa.batchrunner import batch_run\n",
    "from mesa.datacollection import DataCollector\n",
    "from mesa.visualization.modules import CanvasGrid\n",
    "from mesa.visualization.ModularVisualization import ModularServer"
   ]
  },
  {
   "cell_type": "markdown",
   "metadata": {
    "cell_id": "0f6a255fb4a14a78b5953e0273c90e96",
    "deepnote_cell_height": 82,
    "deepnote_cell_type": "markdown",
    "tags": []
   },
   "source": [
    "# BurglarAgent"
   ]
  },
  {
   "cell_type": "code",
   "execution_count": 46,
   "metadata": {
    "cell_id": "68a5e6c33df34425af9b9f8483142fce",
    "deepnote_cell_height": 963,
    "deepnote_cell_type": "code",
    "deepnote_to_be_reexecuted": false,
    "execution_millis": 13,
    "execution_start": 1657129969639,
    "source_hash": "516a3dc7",
    "tags": []
   },
   "outputs": [],
   "source": [
    "class BurglarAgent(Agent):\n",
    "    def __init__(self, unique_id, pos, model):\n",
    "        super().__init__(unique_id, model)\n",
    "        self.unique_id = unique_id\n",
    "        self.pos = pos\n",
    "        self.active = True\n",
    "        self.regeneration = 0\n",
    "\n",
    "\n",
    "    def step(self):\n",
    "        \n",
    "        if self.active: \n",
    "            # get house with same position\n",
    "            house = None\n",
    "            for cell_content in self.model.grid.get_cell_list_contents([self.pos]):\n",
    "                if isinstance(cell_content, HouseAgent):\n",
    "                    house = cell_content\n",
    "            if (house == None):\n",
    "                pass\n",
    "\n",
    "            break_in_probability = 1 - math.exp(-1 * house.get_attractiveness())\n",
    "            break_in = random.random() < break_in_probability\n",
    "        \n",
    "            if break_in == False:\n",
    "                neighbors_dict = {}\n",
    "                for neighbor in self.model.grid.neighbor_iter(self.pos, moore=False):\n",
    "                    if isinstance(neighbor, HouseAgent):\n",
    "                        neighbors_dict[neighbor] = neighbor.get_attractiveness()\n",
    "                        \n",
    "                #randomly choose 1 neighbor if all have same attractiveness\n",
    "                max_attr_list = []\n",
    "                max_attractive = max(neighbors_dict, key=neighbors_dict.get)\n",
    "                max_attr_list.append(max_attractive)\n",
    "                if len(max_attr_list)>1:\n",
    "                    max_attractive = random.choice(max_attr_list)\n",
    "                self.model.grid.move_agent(self, max_attractive.pos)\n",
    "\n",
    "            if break_in == True:\n",
    "                house.gets_burgled()\n",
    "                self.model.total_burglaries += 1\n",
    "                self.active = False\n",
    "        else:\n",
    "            self.regeneration += self.model.burglary_regeneration\n",
    "            if self.regeneration >= 1 :\n",
    "                self.active = True\n",
    "                self.regeneration = 0\n",
    "    \n",
    "    def advance(self):\n",
    "        pass\n"
   ]
  },
  {
   "cell_type": "markdown",
   "metadata": {
    "cell_id": "cb73c6462bb14f42b9a5a8a787b6a38a",
    "deepnote_cell_height": 143,
    "deepnote_cell_type": "markdown",
    "tags": []
   },
   "source": [
    "# HouseAgent (Resource Agent)\n",
    "Every grid cell is occupied by a immobile HouseAgent serving as a \"ressource agent\" to store a house's attractiveness to be burglarized. Grid cells might additionally host a burglar, therefore using MultiGrid."
   ]
  },
  {
   "cell_type": "code",
   "execution_count": 47,
   "metadata": {
    "cell_id": "35346e930f444d508916c95695a80c06",
    "deepnote_cell_height": 1035,
    "deepnote_cell_type": "code",
    "deepnote_to_be_reexecuted": false,
    "execution_millis": 16,
    "execution_start": 1657129969657,
    "source_hash": "7c8b3983",
    "tags": []
   },
   "outputs": [],
   "source": [
    "class HouseAgent(Agent):\n",
    "    def __init__(self, unique_id, pos, attractiveness_static, model):\n",
    "        super().__init__(unique_id, model)\n",
    "        self.unique_id = unique_id\n",
    "        self.pos = pos\n",
    "        self.attractiveness_static = attractiveness_static\n",
    "        self.attractiveness_dynamic = (model.attractiveness_increase*model.burglary_regeneration)/attractiveness_decay_rate # homogeneous equilibrium attractiveness\n",
    "        self.burglaries = 0\n",
    "        self.new_attr_dyn = 0\n",
    "\n",
    "        self.hotspot = False\n",
    "        \n",
    "    def gets_burgled(self):\n",
    "        self.burglaries += 1\n",
    "        # dynamic attractiveness due to victimization (last part of formular)\n",
    "        self.attractiveness_dynamic += self.model.attractiveness_increase\n",
    "        # print('burglary happend at house', self.pos)\n",
    "        \n",
    "     \n",
    "    def get_attractiveness(self):\n",
    "        return self.attractiveness_static + self.attractiveness_dynamic\n",
    "\n",
    "    def step(self):\n",
    "        # reevaluate attractiveness\n",
    "        # assign temporary new dynamic attractivness (new attractiveness_dynamic in \"advance()\")\n",
    "        new_attr_dyn = self.attractiveness_dynamic\n",
    "\n",
    "        # dynamic attractiveness due to near-victimization\n",
    "        neighbors = self.model.grid.neighbor_iter(self.pos, moore=False)\n",
    "        attractiveness_neighbors = 0\n",
    "        num_neighbors = 0\n",
    "        for neighbor in neighbors:\n",
    "            if isinstance(neighbor, HouseAgent):\n",
    "                attractiveness_neighbors += neighbor.attractiveness_dynamic\n",
    "                num_neighbors += 1\n",
    "\n",
    "\n",
    "        # weighting of neighborhodd attractiveness\n",
    "        if(num_neighbors>0):\n",
    "            laplacian = (attractiveness_neighbors - (num_neighbors*self.attractiveness_dynamic)) / model.spacing**2\n",
    "\n",
    "            neighbor_addition = (self.model.neighborhood_effects*(model.spacing**2)*laplacian) / num_neighbors\n",
    "\n",
    "        # addition\n",
    "        new_attr_dyn = new_attr_dyn + neighbor_addition\n",
    "\n",
    "        # attractiveness decay over time\n",
    "        new_attr_dyn = new_attr_dyn * (1 - self.model.attractiveness_decay_rate)\n",
    "        self.new_attr_dyn = new_attr_dyn\n",
    "\n",
    "        if new_attr_dyn > 0.5:\n",
    "            self.hotspot = True\n",
    "            model.hotspot_counter += 1\n",
    "            \n",
    "        else: \n",
    "            self.hotspot = False\n",
    "\n",
    "\n",
    "    def advance(self):\n",
    "        self.attractiveness_dynamic = self.new_attr_dyn\n",
    "\n",
    "\n"
   ]
  },
  {
   "cell_type": "code",
   "execution_count": 48,
   "metadata": {
    "cell_id": "6bc258de76ac4f49817b347639b4aba8",
    "deepnote_cell_height": 189,
    "deepnote_cell_type": "code",
    "deepnote_to_be_reexecuted": false,
    "execution_millis": 10,
    "execution_start": 1657129969679,
    "source_hash": "aabe003",
    "tags": []
   },
   "outputs": [],
   "source": [
    "    def get_active_burglars(self):\n",
    "        n = 0\n",
    "        for agent in self.schedule.agents:\n",
    "            if isinstance(agent, BurglarAgent):\n",
    "                if agent.active:\n",
    "                    n+=1\n",
    "        return n"
   ]
  },
  {
   "cell_type": "code",
   "execution_count": 49,
   "metadata": {},
   "outputs": [],
   "source": [
    "def get_active_hotspots(self):\n",
    "    n = 0\n",
    "    for agent in self.schedule.agents:\n",
    "        if isinstance(agent, HouseAgent):\n",
    "            if agent.hotspot:\n",
    "                    n+=1\n",
    "    return n"
   ]
  },
  {
   "cell_type": "code",
   "execution_count": 50,
   "metadata": {},
   "outputs": [],
   "source": [
    "def get_hotspots(self):\n",
    "    return self.hotspot_counter"
   ]
  },
  {
   "cell_type": "markdown",
   "metadata": {
    "cell_id": "7b1e1176e30642f5be4c39dd5d1bc068",
    "deepnote_cell_height": 82,
    "deepnote_cell_type": "markdown",
    "tags": []
   },
   "source": [
    "# BurglaryModel"
   ]
  },
  {
   "cell_type": "markdown",
   "metadata": {
    "cell_id": "c9af18bb00de45848912d5d52b519787",
    "deepnote_cell_height": 69.39999389648438,
    "deepnote_cell_type": "markdown",
    "tags": []
   },
   "source": [
    "- Annahme der Gleichverteilung für \"attractiveness\""
   ]
  },
  {
   "cell_type": "code",
   "execution_count": 51,
   "metadata": {
    "cell_id": "ae038593aad14533b0c7aa79615995ad",
    "deepnote_cell_height": 1197,
    "deepnote_cell_type": "code",
    "deepnote_to_be_reexecuted": false,
    "execution_millis": 11,
    "execution_start": 1657130190928,
    "owner_user_id": "f66dab4f-6227-4b0a-a74a-9fc46bec479a",
    "source_hash": "566764d1",
    "tags": []
   },
   "outputs": [],
   "source": [
    "class BurglaryModel(Model):\n",
    "    def __init__(self, size, spacing, attractiveness,\n",
    "                attractiveness_increase, neighborhood_effects, attractiveness_decay_rate,\n",
    "                burglary_regeneration):\n",
    "        super().__init__()\n",
    "\n",
    "        self.schedule = SimultaneousActivation(self)  \n",
    "        self.grid = MultiGrid(size, size, torus=False)\n",
    "\n",
    "        self.size = size\n",
    "        self.spacing = spacing\n",
    "        self.attractiveness_increase = attractiveness_increase\n",
    "        self.neighborhood_effects = neighborhood_effects\n",
    "        self.attractiveness_decay_rate = attractiveness_decay_rate\n",
    "        self.burglary_regeneration = burglary_regeneration\n",
    "        self.attr_total = attractiveness + attractiveness_increase*burglary_regeneration/attractiveness_decay_rate\n",
    "\n",
    "        self.hotspot_counter = 0\n",
    "\n",
    "        self.num_burglars = round(size*size*(burglary_regeneration*spacing/(1 - math.exp(-1 * self.attr_total)))) # homogeneous equilibrium number of burglars\n",
    "\n",
    "        self.total_burglaries = 0\n",
    "        self.datacollector = DataCollector(\n",
    "            model_reporters={\"Active Burglars\": get_active_burglars,\n",
    "                            \"Hotspots\": get_active_hotspots,\n",
    "                            \"Total Hotspots\": lambda a: a.total_burglaries},\n",
    "            agent_reporters={\"Attractiveness_dynamic\": lambda a: a.attractiveness_dynamic if isinstance(a, HouseAgent) else None,\n",
    "                            \"Burglaries\": lambda a: a.burglaries if isinstance(a, HouseAgent) else None,\n",
    "                            \"Activ\": lambda a: a.active if isinstance(a, BurglarAgent) else None,\n",
    "                            \"Regeneration\": lambda a: a.regeneration if isinstance(a, BurglarAgent) else None}\n",
    "        )\n",
    "\n",
    "        # Alternative (Neu: nur eine bestimmte Anzahl an Einbrechern ist von Anfang an aktiv (num_burglars)\n",
    "        # alle anderen werden mit random regenartions-wert initialisiert\n",
    "        \n",
    "        for i, coord in enumerate(self.grid.coord_iter()):\n",
    "            x = coord[1]\n",
    "            y = coord[2]   \n",
    "            burglarAgent = BurglarAgent(i, (x,y), self)\n",
    "            burglarAgent.active = False\n",
    "            burglarAgent.regeneration = random.random()\n",
    "            self.grid.place_agent(burglarAgent, (x,y))\n",
    "            self.schedule.add(burglarAgent)\n",
    "        \n",
    "        for active in range(self.num_burglars):\n",
    "            agent = self.random.choice(self.schedule.agents)\n",
    "            agent.active = True\n",
    "            agent.regeneration = 0\n",
    "            \n",
    "        # add house with certain attractiveness on every grid cell\n",
    "        j = 1\n",
    "        for cell in self.grid.coord_iter():\n",
    "            x = cell[1]\n",
    "            y = cell[2]\n",
    "            houseAgent = HouseAgent(i+j, (x,y), attractiveness, self)\n",
    "            self.grid.place_agent(houseAgent, (x, y))\n",
    "            self.schedule.add(houseAgent)\n",
    "            j+=1\n",
    "\n",
    "        \n",
    "\n",
    "    def step(self):\n",
    "\n",
    "        self.datacollector.collect(self)\n",
    "        #self.hotspot_counter = 0\n",
    "        self.schedule.step()\n",
    "        \n"
   ]
  },
  {
   "cell_type": "code",
   "execution_count": 52,
   "metadata": {
    "cell_id": "5b50221e95234e69999c47785102befc",
    "deepnote_cell_height": 117,
    "deepnote_cell_type": "code",
    "deepnote_to_be_reexecuted": false,
    "execution_millis": 10,
    "execution_start": 1657130193329,
    "source_hash": "6201e980",
    "tags": []
   },
   "outputs": [],
   "source": [
    "def single_agent_plot(model):\n",
    "    agent_out = model.datacollector.get_agent_vars_dataframe()\n",
    "    agent_out.xs(0, level=\"AgentID\").Opinion.astype(float).plot()"
   ]
  },
  {
   "cell_type": "markdown",
   "metadata": {
    "cell_id": "345fa8a7d1ac4c938523e86bd49bc1cd",
    "deepnote_cell_height": 82,
    "deepnote_cell_type": "markdown",
    "tags": []
   },
   "source": [
    "# Basic Run"
   ]
  },
  {
   "cell_type": "code",
   "execution_count": 53,
   "metadata": {
    "cell_id": "7947e6862e3a4a84ad3bdf4ee36b8e87",
    "deepnote_cell_height": 745.4000244140625,
    "deepnote_cell_type": "code",
    "deepnote_output_heights": [
     328
    ],
    "deepnote_to_be_reexecuted": false,
    "execution_millis": 23697,
    "execution_start": 1657130253788,
    "source_hash": "fff10f2d",
    "tags": []
   },
   "outputs": [
    {
     "name": "stderr",
     "output_type": "stream",
     "text": [
      "/home/augustin/UNI/cmss/.venv/lib/python3.10/site-packages/mesa/space.py:209: UserWarning: `neighbor_iter` is deprecated in favor of `iter_neighbors` and will be removed in the subsequent version.\n",
      "  warn(\n"
     ]
    },
    {
     "name": "stdout",
     "output_type": "stream",
     "text": [
      "Model ran for 730 steps\n",
      "3624 Burglaries happened\n"
     ]
    }
   ],
   "source": [
    "steps = 730\n",
    "size= 50\n",
    "spacing = 1\n",
    "attractiveness = 1/30 # initial site attractiveness\n",
    "attractiveness_increase = 5.6 # theta = Increase in attractiveness due to one burglary event\n",
    "neighborhood_effects = 0.2 # eta = between zero and unity that measures the significance of neighif x.uid[:1] == 'k' eif x.uid[:1] == 'k' else Nonelse Noneborhood effects\n",
    "attractiveness_decay_rate = 1/15 # omega = Dynamic attractiveness decay rate\n",
    "burglary_regeneration = 0.002 # gamma = Rate of burglar generation at each site\n",
    "\n",
    "\n",
    "\n",
    "model = BurglaryModel(size, spacing, attractiveness, \n",
    "                attractiveness_increase, neighborhood_effects, \n",
    "                attractiveness_decay_rate, burglary_regeneration)\n",
    "\n",
    "\n",
    "while model.schedule.steps < steps:\n",
    "\n",
    "    model.step()\n",
    "   \n",
    "print(\"Model ran for {} steps\".format(model.schedule.steps))\n",
    "print(model.total_burglaries, \"Burglaries happened\")\n",
    "\n"
   ]
  },
  {
   "cell_type": "code",
   "execution_count": 54,
   "metadata": {
    "cell_id": "2c1c531dc543445c8031910760a16179",
    "deepnote_cell_height": 449,
    "deepnote_cell_type": "code",
    "deepnote_table_loading": false,
    "deepnote_table_state": {
     "filters": [],
     "pageIndex": 0,
     "pageSize": 50,
     "sortBy": []
    },
    "deepnote_to_be_reexecuted": false,
    "execution_millis": 2801,
    "execution_start": 1657130281652,
    "source_hash": "d09473fa",
    "tags": []
   },
   "outputs": [
    {
     "data": {
      "text/html": [
       "<div>\n",
       "<style scoped>\n",
       "    .dataframe tbody tr th:only-of-type {\n",
       "        vertical-align: middle;\n",
       "    }\n",
       "\n",
       "    .dataframe tbody tr th {\n",
       "        vertical-align: top;\n",
       "    }\n",
       "\n",
       "    .dataframe thead th {\n",
       "        text-align: right;\n",
       "    }\n",
       "</style>\n",
       "<table border=\"1\" class=\"dataframe\">\n",
       "  <thead>\n",
       "    <tr style=\"text-align: right;\">\n",
       "      <th></th>\n",
       "      <th></th>\n",
       "      <th>Attractiveness_dynamic</th>\n",
       "      <th>Burglaries</th>\n",
       "      <th>Activ</th>\n",
       "      <th>Regeneration</th>\n",
       "    </tr>\n",
       "    <tr>\n",
       "      <th>Step</th>\n",
       "      <th>AgentID</th>\n",
       "      <th></th>\n",
       "      <th></th>\n",
       "      <th></th>\n",
       "      <th></th>\n",
       "    </tr>\n",
       "  </thead>\n",
       "  <tbody>\n",
       "    <tr>\n",
       "      <th rowspan=\"5\" valign=\"top\">0</th>\n",
       "      <th>0</th>\n",
       "      <td>NaN</td>\n",
       "      <td>NaN</td>\n",
       "      <td>False</td>\n",
       "      <td>0.675286</td>\n",
       "    </tr>\n",
       "    <tr>\n",
       "      <th>1</th>\n",
       "      <td>NaN</td>\n",
       "      <td>NaN</td>\n",
       "      <td>False</td>\n",
       "      <td>0.664503</td>\n",
       "    </tr>\n",
       "    <tr>\n",
       "      <th>2</th>\n",
       "      <td>NaN</td>\n",
       "      <td>NaN</td>\n",
       "      <td>False</td>\n",
       "      <td>0.013378</td>\n",
       "    </tr>\n",
       "    <tr>\n",
       "      <th>3</th>\n",
       "      <td>NaN</td>\n",
       "      <td>NaN</td>\n",
       "      <td>False</td>\n",
       "      <td>0.159896</td>\n",
       "    </tr>\n",
       "    <tr>\n",
       "      <th>4</th>\n",
       "      <td>NaN</td>\n",
       "      <td>NaN</td>\n",
       "      <td>False</td>\n",
       "      <td>0.060245</td>\n",
       "    </tr>\n",
       "  </tbody>\n",
       "</table>\n",
       "</div>"
      ],
      "text/plain": [
       "              Attractiveness_dynamic  Burglaries  Activ  Regeneration\n",
       "Step AgentID                                                         \n",
       "0    0                           NaN         NaN  False      0.675286\n",
       "     1                           NaN         NaN  False      0.664503\n",
       "     2                           NaN         NaN  False      0.013378\n",
       "     3                           NaN         NaN  False      0.159896\n",
       "     4                           NaN         NaN  False      0.060245"
      ]
     },
     "execution_count": 54,
     "metadata": {},
     "output_type": "execute_result"
    }
   ],
   "source": [
    "agent_df = model.datacollector.get_agent_vars_dataframe()\n",
    "#agent_df.shape()\n",
    "agent_df.head()\n",
    "#agent_df.tail()"
   ]
  },
  {
   "cell_type": "code",
   "execution_count": 55,
   "metadata": {
    "cell_id": "bec8100d632c4d8781a5a0653a0ae395",
    "deepnote_cell_height": 600,
    "deepnote_cell_type": "code",
    "deepnote_table_loading": false,
    "deepnote_table_state": {
     "filters": [],
     "pageIndex": 1099,
     "pageSize": 10,
     "sortBy": []
    },
    "deepnote_to_be_reexecuted": false,
    "execution_millis": 2976,
    "execution_start": 1657130291957,
    "source_hash": "91cdb867",
    "tags": []
   },
   "outputs": [],
   "source": [
    "#agent_df.to_csv(\"agent_df_a.csv\")\n",
    "#agent_df.to_csv(\"agent_df_b.csv\")\n",
    "#agent_df.to_csv(\"agent_df_c.csv\")\n",
    "#agent_df.to_csv(\"agent_df_d.csv\")"
   ]
  },
  {
   "cell_type": "code",
   "execution_count": 56,
   "metadata": {
    "cell_id": "8b034fe3daa84acb962673b9aa74d212",
    "deepnote_cell_height": 151,
    "deepnote_cell_type": "code",
    "deepnote_output_heights": [
     21,
     2
    ],
    "deepnote_to_be_reexecuted": false,
    "execution_millis": 374,
    "execution_start": 1657130287630,
    "source_hash": "77e7bdf8",
    "tags": []
   },
   "outputs": [
    {
     "data": {
      "text/plain": [
       "<AxesSubplot:xlabel='Step'>"
      ]
     },
     "execution_count": 56,
     "metadata": {},
     "output_type": "execute_result"
    },
    {
     "data": {
      "image/png": "[encoded data removed]",
      "text/plain": [
       "<Figure size 432x288 with 1 Axes>"
      ]
     },
     "metadata": {
      "needs_background": "light"
     },
     "output_type": "display_data"
    }
   ],
   "source": [
    "agent_df.xs(0, level=\"AgentID\").Activ.astype(float).plot()"
   ]
  },
  {
   "cell_type": "code",
   "execution_count": 57,
   "metadata": {
    "cell_id": "12a13971327f4240989fb1a18e1181f9",
    "deepnote_cell_height": 413,
    "deepnote_cell_type": "code",
    "deepnote_table_loading": false,
    "deepnote_table_state": {
     "filters": [],
     "pageIndex": 0,
     "pageSize": 25,
     "sortBy": []
    },
    "deepnote_to_be_reexecuted": false,
    "execution_millis": 64,
    "execution_start": 1657130303531,
    "source_hash": "38f95039",
    "tags": []
   },
   "outputs": [
    {
     "data": {
      "text/html": [
       "<div>\n",
       "<style scoped>\n",
       "    .dataframe tbody tr th:only-of-type {\n",
       "        vertical-align: middle;\n",
       "    }\n",
       "\n",
       "    .dataframe tbody tr th {\n",
       "        vertical-align: top;\n",
       "    }\n",
       "\n",
       "    .dataframe thead th {\n",
       "        text-align: right;\n",
       "    }\n",
       "</style>\n",
       "<table border=\"1\" class=\"dataframe\">\n",
       "  <thead>\n",
       "    <tr style=\"text-align: right;\">\n",
       "      <th></th>\n",
       "      <th>Active Burglars</th>\n",
       "      <th>Hotspots</th>\n",
       "      <th>Total Hotspots</th>\n",
       "    </tr>\n",
       "  </thead>\n",
       "  <tbody>\n",
       "    <tr>\n",
       "      <th>710</th>\n",
       "      <td>15</td>\n",
       "      <td>201</td>\n",
       "      <td>3515</td>\n",
       "    </tr>\n",
       "    <tr>\n",
       "      <th>711</th>\n",
       "      <td>14</td>\n",
       "      <td>201</td>\n",
       "      <td>3520</td>\n",
       "    </tr>\n",
       "    <tr>\n",
       "      <th>712</th>\n",
       "      <td>15</td>\n",
       "      <td>196</td>\n",
       "      <td>3523</td>\n",
       "    </tr>\n",
       "    <tr>\n",
       "      <th>713</th>\n",
       "      <td>17</td>\n",
       "      <td>183</td>\n",
       "      <td>3528</td>\n",
       "    </tr>\n",
       "    <tr>\n",
       "      <th>714</th>\n",
       "      <td>14</td>\n",
       "      <td>189</td>\n",
       "      <td>3534</td>\n",
       "    </tr>\n",
       "    <tr>\n",
       "      <th>715</th>\n",
       "      <td>10</td>\n",
       "      <td>191</td>\n",
       "      <td>3541</td>\n",
       "    </tr>\n",
       "    <tr>\n",
       "      <th>716</th>\n",
       "      <td>10</td>\n",
       "      <td>197</td>\n",
       "      <td>3548</td>\n",
       "    </tr>\n",
       "    <tr>\n",
       "      <th>717</th>\n",
       "      <td>8</td>\n",
       "      <td>198</td>\n",
       "      <td>3554</td>\n",
       "    </tr>\n",
       "    <tr>\n",
       "      <th>718</th>\n",
       "      <td>12</td>\n",
       "      <td>190</td>\n",
       "      <td>3556</td>\n",
       "    </tr>\n",
       "    <tr>\n",
       "      <th>719</th>\n",
       "      <td>17</td>\n",
       "      <td>186</td>\n",
       "      <td>3560</td>\n",
       "    </tr>\n",
       "    <tr>\n",
       "      <th>720</th>\n",
       "      <td>23</td>\n",
       "      <td>180</td>\n",
       "      <td>3563</td>\n",
       "    </tr>\n",
       "    <tr>\n",
       "      <th>721</th>\n",
       "      <td>25</td>\n",
       "      <td>179</td>\n",
       "      <td>3571</td>\n",
       "    </tr>\n",
       "    <tr>\n",
       "      <th>722</th>\n",
       "      <td>24</td>\n",
       "      <td>177</td>\n",
       "      <td>3576</td>\n",
       "    </tr>\n",
       "    <tr>\n",
       "      <th>723</th>\n",
       "      <td>27</td>\n",
       "      <td>180</td>\n",
       "      <td>3581</td>\n",
       "    </tr>\n",
       "    <tr>\n",
       "      <th>724</th>\n",
       "      <td>17</td>\n",
       "      <td>189</td>\n",
       "      <td>3593</td>\n",
       "    </tr>\n",
       "    <tr>\n",
       "      <th>725</th>\n",
       "      <td>18</td>\n",
       "      <td>184</td>\n",
       "      <td>3595</td>\n",
       "    </tr>\n",
       "    <tr>\n",
       "      <th>726</th>\n",
       "      <td>20</td>\n",
       "      <td>193</td>\n",
       "      <td>3600</td>\n",
       "    </tr>\n",
       "    <tr>\n",
       "      <th>727</th>\n",
       "      <td>13</td>\n",
       "      <td>206</td>\n",
       "      <td>3611</td>\n",
       "    </tr>\n",
       "    <tr>\n",
       "      <th>728</th>\n",
       "      <td>14</td>\n",
       "      <td>215</td>\n",
       "      <td>3616</td>\n",
       "    </tr>\n",
       "    <tr>\n",
       "      <th>729</th>\n",
       "      <td>13</td>\n",
       "      <td>222</td>\n",
       "      <td>3620</td>\n",
       "    </tr>\n",
       "  </tbody>\n",
       "</table>\n",
       "</div>"
      ],
      "text/plain": [
       "     Active Burglars  Hotspots  Total Hotspots\n",
       "710               15       201            3515\n",
       "711               14       201            3520\n",
       "712               15       196            3523\n",
       "713               17       183            3528\n",
       "714               14       189            3534\n",
       "715               10       191            3541\n",
       "716               10       197            3548\n",
       "717                8       198            3554\n",
       "718               12       190            3556\n",
       "719               17       186            3560\n",
       "720               23       180            3563\n",
       "721               25       179            3571\n",
       "722               24       177            3576\n",
       "723               27       180            3581\n",
       "724               17       189            3593\n",
       "725               18       184            3595\n",
       "726               20       193            3600\n",
       "727               13       206            3611\n",
       "728               14       215            3616\n",
       "729               13       222            3620"
      ]
     },
     "execution_count": 57,
     "metadata": {},
     "output_type": "execute_result"
    }
   ],
   "source": [
    "model_df = model.datacollector.get_model_vars_dataframe()\n",
    "model_df.tail(20)\n"
   ]
  },
  {
   "cell_type": "code",
   "execution_count": 58,
   "metadata": {
    "cell_id": "cdd835be537e44f993eb1e068d124e76",
    "deepnote_cell_height": 151,
    "deepnote_cell_type": "code",
    "deepnote_output_heights": [
     21,
     2
    ],
    "deepnote_to_be_reexecuted": false,
    "execution_millis": 410,
    "execution_start": 1657130307126,
    "source_hash": "545068ac",
    "tags": []
   },
   "outputs": [
    {
     "data": {
      "text/plain": [
       "<AxesSubplot:>"
      ]
     },
     "execution_count": 58,
     "metadata": {},
     "output_type": "execute_result"
    },
    {
     "data": {
      "image/png": "[encoded data removed]",
      "text/plain": [
       "<Figure size 432x288 with 1 Axes>"
      ]
     },
     "metadata": {
      "needs_background": "light"
     },
     "output_type": "display_data"
    }
   ],
   "source": [
    "model_df.plot()"
   ]
  },
  {
   "cell_type": "markdown",
   "metadata": {
    "cell_id": "2dd309ff1c1d4caea5382f5731d1e8fe",
    "deepnote_cell_type": "text-cell-h1",
    "formattedRanges": [],
    "is_collapsed": false,
    "tags": []
   },
   "source": [
    "# Visualization"
   ]
  },
  {
   "cell_type": "code",
   "execution_count": 59,
   "metadata": {
    "cell_id": "3fd4efff765d46e4b346d9210d6f29b2",
    "deepnote_cell_height": 765,
    "deepnote_cell_type": "code",
    "deepnote_to_be_reexecuted": false,
    "execution_millis": 84,
    "execution_start": 1657130131914,
    "source_hash": "e797fd89",
    "tags": []
   },
   "outputs": [],
   "source": [
    "def agent_portrayal(agent):\n",
    "    portrayal = {\"Shape\": \"rect\",\n",
    "                 \"Filled\": \"true\",\n",
    "                 \"Layer\": 1,\n",
    "                 \"w\": 1, \n",
    "                 \"h\": 1}\n",
    "    \n",
    "    if isinstance(agent, BurglarAgent):\n",
    "        portrayal[\"Color\"] = \"White\"\n",
    "        portrayal[\"r\"] = 0.5\n",
    "        portrayal[\"Shape\"] = \"circle\"\n",
    "        if agent.active == False:\n",
    "            portrayal[\"r\"] = 0\n",
    "\n",
    "    if isinstance(agent, HouseAgent):\n",
    "        portrayal[\"Layer\"] = 0\n",
    "        \n",
    "    \n",
    "        if agent.attractiveness_static + agent.attractiveness_dynamic > 0.5:\n",
    "            portrayal[\"Color\"] = \"#ec3807\"\n",
    "        elif agent.attractiveness_static + agent.attractiveness_dynamic > 0.3:\n",
    "            portrayal[\"Color\"] = \"#eee614\"\n",
    "        elif agent.attractiveness_static + agent.attractiveness_dynamic > 0.1:\n",
    "            portrayal[\"Color\"] = \"#48ec07\"\n",
    "        elif agent.attractiveness_static + agent.attractiveness_dynamic > 0.075:\n",
    "            portrayal[\"Color\"] = \"#0ff5e7\"\n",
    "        elif agent.attractiveness_static + agent.attractiveness_dynamic > 0.04:\n",
    "            portrayal[\"Color\"] = \"#0732ec\"\n",
    "        else:\n",
    "            portrayal[\"Color\"] = \"#da0ddc\"\n",
    "\n",
    "\n",
    "    return portrayal\n",
    "import collections\n",
    "\n",
    "grid = CanvasGrid(agent_portrayal, 50, 50, 500, 500)\n",
    "server = ModularServer(BurglaryModel, [grid], \"Burglary Model\", \n",
    "{\"size\":50, \"spacing\":1, \"attractiveness\":1/30, \n",
    "\"attractiveness_increase\":0.56, \"neighborhood_effects\":0.2, \n",
    "\"attractiveness_decay_rate\":1/15, \"burglary_regeneration\":0.019})"
   ]
  },
  {
   "cell_type": "code",
   "execution_count": 60,
   "metadata": {
    "cell_id": "acb2f2d6ed7c4133b3d39af6829d6e9a",
    "deepnote_cell_height": 99,
    "deepnote_cell_type": "code",
    "deepnote_to_be_reexecuted": false,
    "execution_millis": 2,
    "execution_start": 1656972222501,
    "source_hash": "17177bf9",
    "tags": []
   },
   "outputs": [],
   "source": [
    "#server.port = 8525 # The default 8521 - increase the counter as you run the visalizations\n",
    "#server.launch() # Uncomment to run the visalization"
   ]
  },
  {
   "cell_type": "markdown",
   "metadata": {
    "cell_id": "ed0583bc92ac465aaf13a8524f146732",
    "deepnote_cell_height": 82,
    "deepnote_cell_type": "markdown",
    "tags": []
   },
   "source": [
    "# Batch run"
   ]
  },
  {
   "cell_type": "code",
   "execution_count": 61,
   "metadata": {
    "cell_id": "ca7b8578e15c4e34a8f6bcd72ff889a9",
    "deepnote_cell_height": 670.7000122070312,
    "deepnote_cell_type": "code",
    "deepnote_to_be_reexecuted": false,
    "execution_millis": 456368,
    "execution_start": 1656972222523,
    "source_hash": "33f6feb7",
    "tags": []
   },
   "outputs": [
    {
     "name": "stderr",
     "output_type": "stream",
     "text": [
      "0it [00:00, ?it/s]/home/augustin/UNI/cmss/.venv/lib/python3.10/site-packages/mesa/space.py:209: UserWarning: `neighbor_iter` is deprecated in favor of `iter_neighbors` and will be removed in the subsequent version.\n",
      "  warn(\n",
      "5it [01:02, 12.54s/it]\n"
     ]
    }
   ],
   "source": [
    "params_a = {\n",
    "    \"size\": 50,\n",
    "    \"spacing\": 1,\n",
    "    \"attractiveness\": 1/30,\n",
    "    \"attractiveness_increase\": 0.56,\n",
    "    \"neighborhood_effects\": 0.2,\n",
    "    \"attractiveness_decay_rate\": 1/15,\n",
    "    \"burglary_regeneration\": 0.019,\n",
    "    }\n",
    "results_a = batch_run(\n",
    "    BurglaryModel,\n",
    "    parameters=params_a,\n",
    "    iterations=5,\n",
    "    max_steps=730,\n",
    "    number_processes=1,\n",
    "    data_collection_period=-1,\n",
    "    display_progress=True,\n",
    ")\n",
    "result_a = pd.DataFrame(results_a)"
   ]
  },
  {
   "cell_type": "code",
   "execution_count": 62,
   "metadata": {
    "cell_id": "1f7793a6aa984eb6b70b6e0df5790665",
    "deepnote_cell_height": 4290,
    "deepnote_cell_type": "code",
    "deepnote_table_loading": false,
    "deepnote_table_state": {
     "filters": [],
     "pageIndex": 0,
     "pageSize": 100,
     "sortBy": []
    },
    "deepnote_to_be_reexecuted": false,
    "execution_millis": 266,
    "execution_start": 1656972678987,
    "source_hash": "50eb72cf",
    "tags": []
   },
   "outputs": [
    {
     "data": {
      "text/html": [
       "<div>\n",
       "<style scoped>\n",
       "    .dataframe tbody tr th:only-of-type {\n",
       "        vertical-align: middle;\n",
       "    }\n",
       "\n",
       "    .dataframe tbody tr th {\n",
       "        vertical-align: top;\n",
       "    }\n",
       "\n",
       "    .dataframe thead th {\n",
       "        text-align: right;\n",
       "    }\n",
       "</style>\n",
       "<table border=\"1\" class=\"dataframe\">\n",
       "  <thead>\n",
       "    <tr style=\"text-align: right;\">\n",
       "      <th></th>\n",
       "      <th></th>\n",
       "      <th></th>\n",
       "      <th>size</th>\n",
       "      <th>spacing</th>\n",
       "      <th>attractiveness</th>\n",
       "      <th>attractiveness_increase</th>\n",
       "      <th>neighborhood_effects</th>\n",
       "      <th>attractiveness_decay_rate</th>\n",
       "      <th>burglary_regeneration</th>\n",
       "      <th>Active Burglars</th>\n",
       "      <th>Hotspots</th>\n",
       "      <th>Total Hotspots</th>\n",
       "      <th>AgentID</th>\n",
       "      <th>Attractiveness_dynamic</th>\n",
       "      <th>Burglaries</th>\n",
       "      <th>Regeneration</th>\n",
       "    </tr>\n",
       "    <tr>\n",
       "      <th>RunId</th>\n",
       "      <th>iteration</th>\n",
       "      <th>Step</th>\n",
       "      <th></th>\n",
       "      <th></th>\n",
       "      <th></th>\n",
       "      <th></th>\n",
       "      <th></th>\n",
       "      <th></th>\n",
       "      <th></th>\n",
       "      <th></th>\n",
       "      <th></th>\n",
       "      <th></th>\n",
       "      <th></th>\n",
       "      <th></th>\n",
       "      <th></th>\n",
       "      <th></th>\n",
       "    </tr>\n",
       "  </thead>\n",
       "  <tbody>\n",
       "    <tr>\n",
       "      <th>0</th>\n",
       "      <th>0</th>\n",
       "      <th>730</th>\n",
       "      <td>50.0</td>\n",
       "      <td>1.0</td>\n",
       "      <td>0.033333</td>\n",
       "      <td>0.56</td>\n",
       "      <td>0.2</td>\n",
       "      <td>0.066667</td>\n",
       "      <td>0.019</td>\n",
       "      <td>54.0</td>\n",
       "      <td>183.0</td>\n",
       "      <td>33432.0</td>\n",
       "      <td>2499.5</td>\n",
       "      <td>0.153316</td>\n",
       "      <td>13.3728</td>\n",
       "      <td>0.444790</td>\n",
       "    </tr>\n",
       "    <tr>\n",
       "      <th>1</th>\n",
       "      <th>1</th>\n",
       "      <th>730</th>\n",
       "      <td>50.0</td>\n",
       "      <td>1.0</td>\n",
       "      <td>0.033333</td>\n",
       "      <td>0.56</td>\n",
       "      <td>0.2</td>\n",
       "      <td>0.066667</td>\n",
       "      <td>0.019</td>\n",
       "      <td>60.0</td>\n",
       "      <td>199.0</td>\n",
       "      <td>33415.0</td>\n",
       "      <td>2499.5</td>\n",
       "      <td>0.154462</td>\n",
       "      <td>13.3660</td>\n",
       "      <td>0.446941</td>\n",
       "    </tr>\n",
       "    <tr>\n",
       "      <th>2</th>\n",
       "      <th>2</th>\n",
       "      <th>730</th>\n",
       "      <td>50.0</td>\n",
       "      <td>1.0</td>\n",
       "      <td>0.033333</td>\n",
       "      <td>0.56</td>\n",
       "      <td>0.2</td>\n",
       "      <td>0.066667</td>\n",
       "      <td>0.019</td>\n",
       "      <td>88.0</td>\n",
       "      <td>170.0</td>\n",
       "      <td>33381.0</td>\n",
       "      <td>2499.5</td>\n",
       "      <td>0.149214</td>\n",
       "      <td>13.3524</td>\n",
       "      <td>0.447708</td>\n",
       "    </tr>\n",
       "    <tr>\n",
       "      <th>3</th>\n",
       "      <th>3</th>\n",
       "      <th>730</th>\n",
       "      <td>50.0</td>\n",
       "      <td>1.0</td>\n",
       "      <td>0.033333</td>\n",
       "      <td>0.56</td>\n",
       "      <td>0.2</td>\n",
       "      <td>0.066667</td>\n",
       "      <td>0.019</td>\n",
       "      <td>87.0</td>\n",
       "      <td>179.0</td>\n",
       "      <td>33398.0</td>\n",
       "      <td>2499.5</td>\n",
       "      <td>0.145224</td>\n",
       "      <td>13.3592</td>\n",
       "      <td>0.443604</td>\n",
       "    </tr>\n",
       "    <tr>\n",
       "      <th>4</th>\n",
       "      <th>4</th>\n",
       "      <th>730</th>\n",
       "      <td>50.0</td>\n",
       "      <td>1.0</td>\n",
       "      <td>0.033333</td>\n",
       "      <td>0.56</td>\n",
       "      <td>0.2</td>\n",
       "      <td>0.066667</td>\n",
       "      <td>0.019</td>\n",
       "      <td>85.0</td>\n",
       "      <td>151.0</td>\n",
       "      <td>33390.0</td>\n",
       "      <td>2499.5</td>\n",
       "      <td>0.144803</td>\n",
       "      <td>13.3560</td>\n",
       "      <td>0.458295</td>\n",
       "    </tr>\n",
       "  </tbody>\n",
       "</table>\n",
       "</div>"
      ],
      "text/plain": [
       "                      size  spacing  attractiveness  attractiveness_increase  \\\n",
       "RunId iteration Step                                                           \n",
       "0     0         730   50.0      1.0        0.033333                     0.56   \n",
       "1     1         730   50.0      1.0        0.033333                     0.56   \n",
       "2     2         730   50.0      1.0        0.033333                     0.56   \n",
       "3     3         730   50.0      1.0        0.033333                     0.56   \n",
       "4     4         730   50.0      1.0        0.033333                     0.56   \n",
       "\n",
       "                      neighborhood_effects  attractiveness_decay_rate  \\\n",
       "RunId iteration Step                                                    \n",
       "0     0         730                    0.2                   0.066667   \n",
       "1     1         730                    0.2                   0.066667   \n",
       "2     2         730                    0.2                   0.066667   \n",
       "3     3         730                    0.2                   0.066667   \n",
       "4     4         730                    0.2                   0.066667   \n",
       "\n",
       "                      burglary_regeneration  Active Burglars  Hotspots  \\\n",
       "RunId iteration Step                                                     \n",
       "0     0         730                   0.019             54.0     183.0   \n",
       "1     1         730                   0.019             60.0     199.0   \n",
       "2     2         730                   0.019             88.0     170.0   \n",
       "3     3         730                   0.019             87.0     179.0   \n",
       "4     4         730                   0.019             85.0     151.0   \n",
       "\n",
       "                      Total Hotspots  AgentID  Attractiveness_dynamic  \\\n",
       "RunId iteration Step                                                    \n",
       "0     0         730          33432.0   2499.5                0.153316   \n",
       "1     1         730          33415.0   2499.5                0.154462   \n",
       "2     2         730          33381.0   2499.5                0.149214   \n",
       "3     3         730          33398.0   2499.5                0.145224   \n",
       "4     4         730          33390.0   2499.5                0.144803   \n",
       "\n",
       "                      Burglaries  Regeneration  \n",
       "RunId iteration Step                            \n",
       "0     0         730      13.3728      0.444790  \n",
       "1     1         730      13.3660      0.446941  \n",
       "2     2         730      13.3524      0.447708  \n",
       "3     3         730      13.3592      0.443604  \n",
       "4     4         730      13.3560      0.458295  "
      ]
     },
     "execution_count": 62,
     "metadata": {},
     "output_type": "execute_result"
    }
   ],
   "source": [
    "result_a.groupby(by=[\"RunId\", \"iteration\", \"Step\"]).mean()"
   ]
  },
  {
   "cell_type": "markdown",
   "metadata": {
    "created_in_deepnote_cell": true,
    "deepnote_cell_type": "markdown",
    "tags": []
   },
   "source": [
    "<a style='text-decoration:none;line-height:16px;display:flex;color:#5B5B62;padding:10px;justify-content:end;' href='https://deepnote.com?utm_source=created-in-deepnote-cell&projectId=974054f9-a430-4125-8e5a-f64b08b644a3' target=\"_blank\">\n",
    "<img alt='Created in deepnote.com' style='display:inline;max-height:16px;margin:0px;margin-right:7.5px;' src='data:image/svg+xml;base64,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' > </img>\n",
    "Created in <span style='font-weight:600;margin-left:4px;'>Deepnote</span></a>"
   ]
  },
  {
   "cell_type": "code",
   "execution_count": 63,
   "metadata": {},
   "outputs": [
    {
     "name": "stderr",
     "output_type": "stream",
     "text": [
      "0it [00:00, ?it/s]/home/augustin/UNI/cmss/.venv/lib/python3.10/site-packages/mesa/space.py:209: UserWarning: `neighbor_iter` is deprecated in favor of `iter_neighbors` and will be removed in the subsequent version.\n",
      "  warn(\n",
      "5it [01:08, 13.73s/it]\n"
     ]
    }
   ],
   "source": [
    "params_c = {\n",
    "    \"size\": 50,\n",
    "    \"spacing\": 1,\n",
    "    \"attractiveness\": 1/30,\n",
    "    \"attractiveness_increase\": 0.56,\n",
    "    \"neighborhood_effects\": 0.03,\n",
    "    \"attractiveness_decay_rate\": 1/15,\n",
    "    \"burglary_regeneration\": 0.019,\n",
    "    }\n",
    "results_c = batch_run(\n",
    "    BurglaryModel,\n",
    "    parameters=params_c,\n",
    "    iterations=5,\n",
    "    max_steps=730,\n",
    "    number_processes=1,\n",
    "    data_collection_period=-1,\n",
    "    display_progress=True,\n",
    ")\n",
    "result_c = pd.DataFrame(results_c)"
   ]
  },
  {
   "cell_type": "code",
   "execution_count": 64,
   "metadata": {},
   "outputs": [
    {
     "data": {
      "text/html": [
       "<div>\n",
       "<style scoped>\n",
       "    .dataframe tbody tr th:only-of-type {\n",
       "        vertical-align: middle;\n",
       "    }\n",
       "\n",
       "    .dataframe tbody tr th {\n",
       "        vertical-align: top;\n",
       "    }\n",
       "\n",
       "    .dataframe thead th {\n",
       "        text-align: right;\n",
       "    }\n",
       "</style>\n",
       "<table border=\"1\" class=\"dataframe\">\n",
       "  <thead>\n",
       "    <tr style=\"text-align: right;\">\n",
       "      <th></th>\n",
       "      <th></th>\n",
       "      <th></th>\n",
       "      <th>size</th>\n",
       "      <th>spacing</th>\n",
       "      <th>attractiveness</th>\n",
       "      <th>attractiveness_increase</th>\n",
       "      <th>neighborhood_effects</th>\n",
       "      <th>attractiveness_decay_rate</th>\n",
       "      <th>burglary_regeneration</th>\n",
       "      <th>Active Burglars</th>\n",
       "      <th>Hotspots</th>\n",
       "      <th>Total Hotspots</th>\n",
       "      <th>AgentID</th>\n",
       "      <th>Attractiveness_dynamic</th>\n",
       "      <th>Burglaries</th>\n",
       "      <th>Regeneration</th>\n",
       "    </tr>\n",
       "    <tr>\n",
       "      <th>RunId</th>\n",
       "      <th>iteration</th>\n",
       "      <th>Step</th>\n",
       "      <th></th>\n",
       "      <th></th>\n",
       "      <th></th>\n",
       "      <th></th>\n",
       "      <th></th>\n",
       "      <th></th>\n",
       "      <th></th>\n",
       "      <th></th>\n",
       "      <th></th>\n",
       "      <th></th>\n",
       "      <th></th>\n",
       "      <th></th>\n",
       "      <th></th>\n",
       "      <th></th>\n",
       "    </tr>\n",
       "  </thead>\n",
       "  <tbody>\n",
       "    <tr>\n",
       "      <th>0</th>\n",
       "      <th>0</th>\n",
       "      <th>730</th>\n",
       "      <td>50.0</td>\n",
       "      <td>1.0</td>\n",
       "      <td>0.033333</td>\n",
       "      <td>0.56</td>\n",
       "      <td>0.03</td>\n",
       "      <td>0.066667</td>\n",
       "      <td>0.019</td>\n",
       "      <td>45.0</td>\n",
       "      <td>123.0</td>\n",
       "      <td>33516.0</td>\n",
       "      <td>2499.5</td>\n",
       "      <td>0.008836</td>\n",
       "      <td>0.0</td>\n",
       "      <td>0.437</td>\n",
       "    </tr>\n",
       "    <tr>\n",
       "      <th>1</th>\n",
       "      <th>1</th>\n",
       "      <th>730</th>\n",
       "      <td>50.0</td>\n",
       "      <td>1.0</td>\n",
       "      <td>0.033333</td>\n",
       "      <td>0.56</td>\n",
       "      <td>0.03</td>\n",
       "      <td>0.066667</td>\n",
       "      <td>0.019</td>\n",
       "      <td>70.0</td>\n",
       "      <td>122.0</td>\n",
       "      <td>33484.0</td>\n",
       "      <td>2499.5</td>\n",
       "      <td>0.008534</td>\n",
       "      <td>0.0</td>\n",
       "      <td>0.437</td>\n",
       "    </tr>\n",
       "    <tr>\n",
       "      <th>2</th>\n",
       "      <th>2</th>\n",
       "      <th>730</th>\n",
       "      <td>50.0</td>\n",
       "      <td>1.0</td>\n",
       "      <td>0.033333</td>\n",
       "      <td>0.56</td>\n",
       "      <td>0.03</td>\n",
       "      <td>0.066667</td>\n",
       "      <td>0.019</td>\n",
       "      <td>59.0</td>\n",
       "      <td>116.0</td>\n",
       "      <td>33535.0</td>\n",
       "      <td>2499.5</td>\n",
       "      <td>0.007142</td>\n",
       "      <td>0.0</td>\n",
       "      <td>0.437</td>\n",
       "    </tr>\n",
       "    <tr>\n",
       "      <th>3</th>\n",
       "      <th>3</th>\n",
       "      <th>730</th>\n",
       "      <td>50.0</td>\n",
       "      <td>1.0</td>\n",
       "      <td>0.033333</td>\n",
       "      <td>0.56</td>\n",
       "      <td>0.03</td>\n",
       "      <td>0.066667</td>\n",
       "      <td>0.019</td>\n",
       "      <td>57.0</td>\n",
       "      <td>120.0</td>\n",
       "      <td>33537.0</td>\n",
       "      <td>2499.5</td>\n",
       "      <td>0.007519</td>\n",
       "      <td>0.0</td>\n",
       "      <td>0.418</td>\n",
       "    </tr>\n",
       "    <tr>\n",
       "      <th>4</th>\n",
       "      <th>4</th>\n",
       "      <th>730</th>\n",
       "      <td>50.0</td>\n",
       "      <td>1.0</td>\n",
       "      <td>0.033333</td>\n",
       "      <td>0.56</td>\n",
       "      <td>0.03</td>\n",
       "      <td>0.066667</td>\n",
       "      <td>0.019</td>\n",
       "      <td>44.0</td>\n",
       "      <td>113.0</td>\n",
       "      <td>33552.0</td>\n",
       "      <td>2499.5</td>\n",
       "      <td>0.008416</td>\n",
       "      <td>0.0</td>\n",
       "      <td>0.437</td>\n",
       "    </tr>\n",
       "  </tbody>\n",
       "</table>\n",
       "</div>"
      ],
      "text/plain": [
       "                      size  spacing  attractiveness  attractiveness_increase  \\\n",
       "RunId iteration Step                                                           \n",
       "0     0         730   50.0      1.0        0.033333                     0.56   \n",
       "1     1         730   50.0      1.0        0.033333                     0.56   \n",
       "2     2         730   50.0      1.0        0.033333                     0.56   \n",
       "3     3         730   50.0      1.0        0.033333                     0.56   \n",
       "4     4         730   50.0      1.0        0.033333                     0.56   \n",
       "\n",
       "                      neighborhood_effects  attractiveness_decay_rate  \\\n",
       "RunId iteration Step                                                    \n",
       "0     0         730                   0.03                   0.066667   \n",
       "1     1         730                   0.03                   0.066667   \n",
       "2     2         730                   0.03                   0.066667   \n",
       "3     3         730                   0.03                   0.066667   \n",
       "4     4         730                   0.03                   0.066667   \n",
       "\n",
       "                      burglary_regeneration  Active Burglars  Hotspots  \\\n",
       "RunId iteration Step                                                     \n",
       "0     0         730                   0.019             45.0     123.0   \n",
       "1     1         730                   0.019             70.0     122.0   \n",
       "2     2         730                   0.019             59.0     116.0   \n",
       "3     3         730                   0.019             57.0     120.0   \n",
       "4     4         730                   0.019             44.0     113.0   \n",
       "\n",
       "                      Total Hotspots  AgentID  Attractiveness_dynamic  \\\n",
       "RunId iteration Step                                                    \n",
       "0     0         730          33516.0   2499.5                0.008836   \n",
       "1     1         730          33484.0   2499.5                0.008534   \n",
       "2     2         730          33535.0   2499.5                0.007142   \n",
       "3     3         730          33537.0   2499.5                0.007519   \n",
       "4     4         730          33552.0   2499.5                0.008416   \n",
       "\n",
       "                      Burglaries  Regeneration  \n",
       "RunId iteration Step                            \n",
       "0     0         730          0.0         0.437  \n",
       "1     1         730          0.0         0.437  \n",
       "2     2         730          0.0         0.437  \n",
       "3     3         730          0.0         0.418  \n",
       "4     4         730          0.0         0.437  "
      ]
     },
     "execution_count": 64,
     "metadata": {},
     "output_type": "execute_result"
    }
   ],
   "source": [
    "result_c.groupby(by=[\"RunId\", \"iteration\", \"Step\"]).median()"
   ]
  },
  {
   "cell_type": "code",
   "execution_count": 65,
   "metadata": {},
   "outputs": [
    {
     "name": "stderr",
     "output_type": "stream",
     "text": [
      "0it [00:00, ?it/s]/home/augustin/UNI/cmss/.venv/lib/python3.10/site-packages/mesa/space.py:209: UserWarning: `neighbor_iter` is deprecated in favor of `iter_neighbors` and will be removed in the subsequent version.\n",
      "  warn(\n",
      "5it [01:05, 13.14s/it]\n"
     ]
    }
   ],
   "source": [
    "params_b = {\n",
    "    \"size\": 50,\n",
    "    \"spacing\": 1,\n",
    "    \"attractiveness\": 1/30,\n",
    "    \"attractiveness_increase\": 5.6,\n",
    "    \"neighborhood_effects\": 0.2,\n",
    "    \"attractiveness_decay_rate\": 1/15,\n",
    "    \"burglary_regeneration\": 0.002,\n",
    "    }\n",
    "results_b = batch_run(\n",
    "    BurglaryModel,\n",
    "    parameters=params_b,\n",
    "    iterations=5,\n",
    "    max_steps=730,\n",
    "    number_processes=1,\n",
    "    data_collection_period=-1,\n",
    "    display_progress=True,\n",
    ")\n",
    "result_b = pd.DataFrame(results_b)"
   ]
  },
  {
   "cell_type": "code",
   "execution_count": 66,
   "metadata": {},
   "outputs": [
    {
     "data": {
      "text/html": [
       "<div>\n",
       "<style scoped>\n",
       "    .dataframe tbody tr th:only-of-type {\n",
       "        vertical-align: middle;\n",
       "    }\n",
       "\n",
       "    .dataframe tbody tr th {\n",
       "        vertical-align: top;\n",
       "    }\n",
       "\n",
       "    .dataframe thead th {\n",
       "        text-align: right;\n",
       "    }\n",
       "</style>\n",
       "<table border=\"1\" class=\"dataframe\">\n",
       "  <thead>\n",
       "    <tr style=\"text-align: right;\">\n",
       "      <th></th>\n",
       "      <th></th>\n",
       "      <th></th>\n",
       "      <th>size</th>\n",
       "      <th>spacing</th>\n",
       "      <th>attractiveness</th>\n",
       "      <th>attractiveness_increase</th>\n",
       "      <th>neighborhood_effects</th>\n",
       "      <th>attractiveness_decay_rate</th>\n",
       "      <th>burglary_regeneration</th>\n",
       "      <th>Active Burglars</th>\n",
       "      <th>Hotspots</th>\n",
       "      <th>Total Hotspots</th>\n",
       "      <th>AgentID</th>\n",
       "      <th>Attractiveness_dynamic</th>\n",
       "      <th>Burglaries</th>\n",
       "      <th>Regeneration</th>\n",
       "    </tr>\n",
       "    <tr>\n",
       "      <th>RunId</th>\n",
       "      <th>iteration</th>\n",
       "      <th>Step</th>\n",
       "      <th></th>\n",
       "      <th></th>\n",
       "      <th></th>\n",
       "      <th></th>\n",
       "      <th></th>\n",
       "      <th></th>\n",
       "      <th></th>\n",
       "      <th></th>\n",
       "      <th></th>\n",
       "      <th></th>\n",
       "      <th></th>\n",
       "      <th></th>\n",
       "      <th></th>\n",
       "      <th></th>\n",
       "    </tr>\n",
       "  </thead>\n",
       "  <tbody>\n",
       "    <tr>\n",
       "      <th>0</th>\n",
       "      <th>0</th>\n",
       "      <th>730</th>\n",
       "      <td>50.0</td>\n",
       "      <td>1.0</td>\n",
       "      <td>0.033333</td>\n",
       "      <td>5.6</td>\n",
       "      <td>0.2</td>\n",
       "      <td>0.066667</td>\n",
       "      <td>0.002</td>\n",
       "      <td>17.0</td>\n",
       "      <td>133.0</td>\n",
       "      <td>3616.0</td>\n",
       "      <td>2499.5</td>\n",
       "      <td>0.028046</td>\n",
       "      <td>0.0</td>\n",
       "      <td>0.496</td>\n",
       "    </tr>\n",
       "    <tr>\n",
       "      <th>1</th>\n",
       "      <th>1</th>\n",
       "      <th>730</th>\n",
       "      <td>50.0</td>\n",
       "      <td>1.0</td>\n",
       "      <td>0.033333</td>\n",
       "      <td>5.6</td>\n",
       "      <td>0.2</td>\n",
       "      <td>0.066667</td>\n",
       "      <td>0.002</td>\n",
       "      <td>10.0</td>\n",
       "      <td>203.0</td>\n",
       "      <td>3673.0</td>\n",
       "      <td>2499.5</td>\n",
       "      <td>0.028430</td>\n",
       "      <td>0.0</td>\n",
       "      <td>0.476</td>\n",
       "    </tr>\n",
       "    <tr>\n",
       "      <th>2</th>\n",
       "      <th>2</th>\n",
       "      <th>730</th>\n",
       "      <td>50.0</td>\n",
       "      <td>1.0</td>\n",
       "      <td>0.033333</td>\n",
       "      <td>5.6</td>\n",
       "      <td>0.2</td>\n",
       "      <td>0.066667</td>\n",
       "      <td>0.002</td>\n",
       "      <td>17.0</td>\n",
       "      <td>164.0</td>\n",
       "      <td>3618.0</td>\n",
       "      <td>2499.5</td>\n",
       "      <td>0.042375</td>\n",
       "      <td>0.0</td>\n",
       "      <td>0.502</td>\n",
       "    </tr>\n",
       "    <tr>\n",
       "      <th>3</th>\n",
       "      <th>3</th>\n",
       "      <th>730</th>\n",
       "      <td>50.0</td>\n",
       "      <td>1.0</td>\n",
       "      <td>0.033333</td>\n",
       "      <td>5.6</td>\n",
       "      <td>0.2</td>\n",
       "      <td>0.066667</td>\n",
       "      <td>0.002</td>\n",
       "      <td>18.0</td>\n",
       "      <td>152.0</td>\n",
       "      <td>3620.0</td>\n",
       "      <td>2499.5</td>\n",
       "      <td>0.026442</td>\n",
       "      <td>0.0</td>\n",
       "      <td>0.493</td>\n",
       "    </tr>\n",
       "    <tr>\n",
       "      <th>4</th>\n",
       "      <th>4</th>\n",
       "      <th>730</th>\n",
       "      <td>50.0</td>\n",
       "      <td>1.0</td>\n",
       "      <td>0.033333</td>\n",
       "      <td>5.6</td>\n",
       "      <td>0.2</td>\n",
       "      <td>0.066667</td>\n",
       "      <td>0.002</td>\n",
       "      <td>18.0</td>\n",
       "      <td>233.0</td>\n",
       "      <td>3638.0</td>\n",
       "      <td>2499.5</td>\n",
       "      <td>0.039668</td>\n",
       "      <td>0.0</td>\n",
       "      <td>0.490</td>\n",
       "    </tr>\n",
       "  </tbody>\n",
       "</table>\n",
       "</div>"
      ],
      "text/plain": [
       "                      size  spacing  attractiveness  attractiveness_increase  \\\n",
       "RunId iteration Step                                                           \n",
       "0     0         730   50.0      1.0        0.033333                      5.6   \n",
       "1     1         730   50.0      1.0        0.033333                      5.6   \n",
       "2     2         730   50.0      1.0        0.033333                      5.6   \n",
       "3     3         730   50.0      1.0        0.033333                      5.6   \n",
       "4     4         730   50.0      1.0        0.033333                      5.6   \n",
       "\n",
       "                      neighborhood_effects  attractiveness_decay_rate  \\\n",
       "RunId iteration Step                                                    \n",
       "0     0         730                    0.2                   0.066667   \n",
       "1     1         730                    0.2                   0.066667   \n",
       "2     2         730                    0.2                   0.066667   \n",
       "3     3         730                    0.2                   0.066667   \n",
       "4     4         730                    0.2                   0.066667   \n",
       "\n",
       "                      burglary_regeneration  Active Burglars  Hotspots  \\\n",
       "RunId iteration Step                                                     \n",
       "0     0         730                   0.002             17.0     133.0   \n",
       "1     1         730                   0.002             10.0     203.0   \n",
       "2     2         730                   0.002             17.0     164.0   \n",
       "3     3         730                   0.002             18.0     152.0   \n",
       "4     4         730                   0.002             18.0     233.0   \n",
       "\n",
       "                      Total Hotspots  AgentID  Attractiveness_dynamic  \\\n",
       "RunId iteration Step                                                    \n",
       "0     0         730           3616.0   2499.5                0.028046   \n",
       "1     1         730           3673.0   2499.5                0.028430   \n",
       "2     2         730           3618.0   2499.5                0.042375   \n",
       "3     3         730           3620.0   2499.5                0.026442   \n",
       "4     4         730           3638.0   2499.5                0.039668   \n",
       "\n",
       "                      Burglaries  Regeneration  \n",
       "RunId iteration Step                            \n",
       "0     0         730          0.0         0.496  \n",
       "1     1         730          0.0         0.476  \n",
       "2     2         730          0.0         0.502  \n",
       "3     3         730          0.0         0.493  \n",
       "4     4         730          0.0         0.490  "
      ]
     },
     "execution_count": 66,
     "metadata": {},
     "output_type": "execute_result"
    }
   ],
   "source": [
    "result_b.groupby(by=[\"RunId\", \"iteration\", \"Step\"]).median()"
   ]
  },
  {
   "cell_type": "code",
   "execution_count": 67,
   "metadata": {},
   "outputs": [
    {
     "name": "stderr",
     "output_type": "stream",
     "text": [
      "0it [00:00, ?it/s]/home/augustin/UNI/cmss/.venv/lib/python3.10/site-packages/mesa/space.py:209: UserWarning: `neighbor_iter` is deprecated in favor of `iter_neighbors` and will be removed in the subsequent version.\n",
      "  warn(\n",
      "5it [01:05, 13.01s/it]\n"
     ]
    }
   ],
   "source": [
    "params_d = {\n",
    "    \"size\": 50,\n",
    "    \"spacing\": 1,\n",
    "    \"attractiveness\": 1/30,\n",
    "    \"attractiveness_increase\": 5.6,\n",
    "    \"neighborhood_effects\": 0.03,\n",
    "    \"attractiveness_decay_rate\": 1/15,\n",
    "    \"burglary_regeneration\": 0.002,\n",
    "    }\n",
    "results_d = batch_run(\n",
    "    BurglaryModel,\n",
    "    parameters=params_d,\n",
    "    iterations=5,\n",
    "    max_steps=730,\n",
    "    number_processes=1,\n",
    "    data_collection_period=-1,\n",
    "    display_progress=True,\n",
    ")\n",
    "result_d = pd.DataFrame(results_d)"
   ]
  },
  {
   "cell_type": "code",
   "execution_count": 68,
   "metadata": {},
   "outputs": [
    {
     "data": {
      "text/html": [
       "<div>\n",
       "<style scoped>\n",
       "    .dataframe tbody tr th:only-of-type {\n",
       "        vertical-align: middle;\n",
       "    }\n",
       "\n",
       "    .dataframe tbody tr th {\n",
       "        vertical-align: top;\n",
       "    }\n",
       "\n",
       "    .dataframe thead th {\n",
       "        text-align: right;\n",
       "    }\n",
       "</style>\n",
       "<table border=\"1\" class=\"dataframe\">\n",
       "  <thead>\n",
       "    <tr style=\"text-align: right;\">\n",
       "      <th></th>\n",
       "      <th></th>\n",
       "      <th></th>\n",
       "      <th>size</th>\n",
       "      <th>spacing</th>\n",
       "      <th>attractiveness</th>\n",
       "      <th>attractiveness_increase</th>\n",
       "      <th>neighborhood_effects</th>\n",
       "      <th>attractiveness_decay_rate</th>\n",
       "      <th>burglary_regeneration</th>\n",
       "      <th>Active Burglars</th>\n",
       "      <th>Hotspots</th>\n",
       "      <th>Total Hotspots</th>\n",
       "      <th>AgentID</th>\n",
       "      <th>Attractiveness_dynamic</th>\n",
       "      <th>Burglaries</th>\n",
       "      <th>Regeneration</th>\n",
       "    </tr>\n",
       "    <tr>\n",
       "      <th>RunId</th>\n",
       "      <th>iteration</th>\n",
       "      <th>Step</th>\n",
       "      <th></th>\n",
       "      <th></th>\n",
       "      <th></th>\n",
       "      <th></th>\n",
       "      <th></th>\n",
       "      <th></th>\n",
       "      <th></th>\n",
       "      <th></th>\n",
       "      <th></th>\n",
       "      <th></th>\n",
       "      <th></th>\n",
       "      <th></th>\n",
       "      <th></th>\n",
       "      <th></th>\n",
       "    </tr>\n",
       "  </thead>\n",
       "  <tbody>\n",
       "    <tr>\n",
       "      <th>0</th>\n",
       "      <th>0</th>\n",
       "      <th>730</th>\n",
       "      <td>50.0</td>\n",
       "      <td>1.0</td>\n",
       "      <td>0.033333</td>\n",
       "      <td>5.6</td>\n",
       "      <td>0.03</td>\n",
       "      <td>0.066667</td>\n",
       "      <td>0.002</td>\n",
       "      <td>10.0</td>\n",
       "      <td>100.0</td>\n",
       "      <td>3635.0</td>\n",
       "      <td>2499.5</td>\n",
       "      <td>0.002484</td>\n",
       "      <td>0.0</td>\n",
       "      <td>0.499</td>\n",
       "    </tr>\n",
       "    <tr>\n",
       "      <th>1</th>\n",
       "      <th>1</th>\n",
       "      <th>730</th>\n",
       "      <td>50.0</td>\n",
       "      <td>1.0</td>\n",
       "      <td>0.033333</td>\n",
       "      <td>5.6</td>\n",
       "      <td>0.03</td>\n",
       "      <td>0.066667</td>\n",
       "      <td>0.002</td>\n",
       "      <td>14.0</td>\n",
       "      <td>112.0</td>\n",
       "      <td>3637.0</td>\n",
       "      <td>2499.5</td>\n",
       "      <td>0.002957</td>\n",
       "      <td>0.0</td>\n",
       "      <td>0.490</td>\n",
       "    </tr>\n",
       "    <tr>\n",
       "      <th>2</th>\n",
       "      <th>2</th>\n",
       "      <th>730</th>\n",
       "      <td>50.0</td>\n",
       "      <td>1.0</td>\n",
       "      <td>0.033333</td>\n",
       "      <td>5.6</td>\n",
       "      <td>0.03</td>\n",
       "      <td>0.066667</td>\n",
       "      <td>0.002</td>\n",
       "      <td>10.0</td>\n",
       "      <td>110.0</td>\n",
       "      <td>3628.0</td>\n",
       "      <td>2499.5</td>\n",
       "      <td>0.002456</td>\n",
       "      <td>0.0</td>\n",
       "      <td>0.494</td>\n",
       "    </tr>\n",
       "    <tr>\n",
       "      <th>3</th>\n",
       "      <th>3</th>\n",
       "      <th>730</th>\n",
       "      <td>50.0</td>\n",
       "      <td>1.0</td>\n",
       "      <td>0.033333</td>\n",
       "      <td>5.6</td>\n",
       "      <td>0.03</td>\n",
       "      <td>0.066667</td>\n",
       "      <td>0.002</td>\n",
       "      <td>22.0</td>\n",
       "      <td>107.0</td>\n",
       "      <td>3642.0</td>\n",
       "      <td>2499.5</td>\n",
       "      <td>0.002640</td>\n",
       "      <td>0.0</td>\n",
       "      <td>0.480</td>\n",
       "    </tr>\n",
       "    <tr>\n",
       "      <th>4</th>\n",
       "      <th>4</th>\n",
       "      <th>730</th>\n",
       "      <td>50.0</td>\n",
       "      <td>1.0</td>\n",
       "      <td>0.033333</td>\n",
       "      <td>5.6</td>\n",
       "      <td>0.03</td>\n",
       "      <td>0.066667</td>\n",
       "      <td>0.002</td>\n",
       "      <td>8.0</td>\n",
       "      <td>137.0</td>\n",
       "      <td>3623.0</td>\n",
       "      <td>2499.5</td>\n",
       "      <td>0.002467</td>\n",
       "      <td>0.0</td>\n",
       "      <td>0.498</td>\n",
       "    </tr>\n",
       "  </tbody>\n",
       "</table>\n",
       "</div>"
      ],
      "text/plain": [
       "                      size  spacing  attractiveness  attractiveness_increase  \\\n",
       "RunId iteration Step                                                           \n",
       "0     0         730   50.0      1.0        0.033333                      5.6   \n",
       "1     1         730   50.0      1.0        0.033333                      5.6   \n",
       "2     2         730   50.0      1.0        0.033333                      5.6   \n",
       "3     3         730   50.0      1.0        0.033333                      5.6   \n",
       "4     4         730   50.0      1.0        0.033333                      5.6   \n",
       "\n",
       "                      neighborhood_effects  attractiveness_decay_rate  \\\n",
       "RunId iteration Step                                                    \n",
       "0     0         730                   0.03                   0.066667   \n",
       "1     1         730                   0.03                   0.066667   \n",
       "2     2         730                   0.03                   0.066667   \n",
       "3     3         730                   0.03                   0.066667   \n",
       "4     4         730                   0.03                   0.066667   \n",
       "\n",
       "                      burglary_regeneration  Active Burglars  Hotspots  \\\n",
       "RunId iteration Step                                                     \n",
       "0     0         730                   0.002             10.0     100.0   \n",
       "1     1         730                   0.002             14.0     112.0   \n",
       "2     2         730                   0.002             10.0     110.0   \n",
       "3     3         730                   0.002             22.0     107.0   \n",
       "4     4         730                   0.002              8.0     137.0   \n",
       "\n",
       "                      Total Hotspots  AgentID  Attractiveness_dynamic  \\\n",
       "RunId iteration Step                                                    \n",
       "0     0         730           3635.0   2499.5                0.002484   \n",
       "1     1         730           3637.0   2499.5                0.002957   \n",
       "2     2         730           3628.0   2499.5                0.002456   \n",
       "3     3         730           3642.0   2499.5                0.002640   \n",
       "4     4         730           3623.0   2499.5                0.002467   \n",
       "\n",
       "                      Burglaries  Regeneration  \n",
       "RunId iteration Step                            \n",
       "0     0         730          0.0         0.499  \n",
       "1     1         730          0.0         0.490  \n",
       "2     2         730          0.0         0.494  \n",
       "3     3         730          0.0         0.480  \n",
       "4     4         730          0.0         0.498  "
      ]
     },
     "execution_count": 68,
     "metadata": {},
     "output_type": "execute_result"
    }
   ],
   "source": [
    "result_d.groupby(by=[\"RunId\", \"iteration\", \"Step\"]).median()"
   ]
  },
  {
   "cell_type": "markdown",
   "metadata": {},
   "source": [
    "## Desriptive statistics\n",
    "\n",
    "Statistics in overleaf have been based on 1 iteration per simulation and 730 steps\n",
    "\n",
    "These are based on 5 iterations and 100 steps!!! (difference in mean, std, etc.!!)\n",
    "\n",
    "However, doesn't make sense yet because for example in the dict, 8000 * 0 houses have been burgled but there are only 2500 houses on the grid!! - has to be divided by the number of iterations"
   ]
  },
  {
   "cell_type": "code",
   "execution_count": 69,
   "metadata": {},
   "outputs": [],
   "source": [
    "steps = 100         # adjust based batch run \n",
    "iterations = 5      # adjust based batch run "
   ]
  },
  {
   "cell_type": "code",
   "execution_count": 70,
   "metadata": {},
   "outputs": [],
   "source": [
    "def df_to_burglaries_norm(df, num_burglars):\n",
    "    df_ready = df[df[\"iteration\"] == iterations-2]\n",
    "    series_norm = df_ready[\"Burglaries\"].div(num_burglars).round(4)\n",
    "    df_norm = pd.DataFrame(series_norm)\n",
    "    mean = series_norm.mean()\n",
    "    std = series_norm.std()\n",
    "    med = series_norm.median()\n",
    "    return df_ready, df_norm, mean, std, med, series_norm"
   ]
  },
  {
   "cell_type": "code",
   "execution_count": 71,
   "metadata": {},
   "outputs": [],
   "source": [
    "# enter index position 0 for the original dataframe and position 1 for the normalized one \n",
    "\n",
    "\n",
    "df_new = pd.DataFrame({\"A\": df_to_burglaries_norm(result_a, 271)[1][\"Burglaries\"],\n",
    "                        \"B\": df_to_burglaries_norm(result_b, 27)[1][\"Burglaries\"],\n",
    "                        \"C\": df_to_burglaries_norm(result_c, 271)[1][\"Burglaries\"],\n",
    "                        \"D\": df_to_burglaries_norm(result_d, 27)[1][\"Burglaries\"]})"
   ]
  },
  {
   "cell_type": "code",
   "execution_count": 88,
   "metadata": {},
   "outputs": [
    {
     "data": {
      "image/png": "[encoded data removed]",
      "text/plain": [
       "<Figure size 432x288 with 1 Axes>"
      ]
     },
     "metadata": {
      "needs_background": "light"
     },
     "output_type": "display_data"
    }
   ],
   "source": [
    "df_new.boxplot(column=[\"A\", \"B\", \"C\", \"D\"])\n",
    "plt.title(\"Boxplot: Burglaries per house normalized by number of burglars\\n(a,c: 271 burglars; b,d: 27 burglars)\")\n",
    "plt.ylabel(\"Normalized burglaries per house\")\n",
    "plt.savefig(\"boxplot_normalized_burglaries.png\")\n",
    "plt.show()"
   ]
  },
  {
   "cell_type": "code",
   "execution_count": 73,
   "metadata": {},
   "outputs": [],
   "source": [
    "def df_to_burglaries_dict(df):\n",
    "    df_ready = df[df[\"iteration\"] == iterations-2] \n",
    "    results = df_ready[\"Burglaries\"].value_counts().to_dict()\n",
    "    burglaries_dict = results.items()\n",
    "    burglaries_dict = sorted(burglaries_dict)\n",
    "    return burglaries_dict"
   ]
  },
  {
   "cell_type": "code",
   "execution_count": 74,
   "metadata": {},
   "outputs": [
    {
     "name": "stdout",
     "output_type": "stream",
     "text": [
      "[(0.0, 1565), (1.0, 285), (2.0, 103), (3.0, 68), (4.0, 30), (5.0, 50), (6.0, 26), (7.0, 23), (8.0, 13), (9.0, 10), (10.0, 14), (11.0, 19), (12.0, 12), (13.0, 11), (14.0, 5), (15.0, 6), (16.0, 7), (17.0, 9), (18.0, 4), (19.0, 8), (20.0, 5), (21.0, 3), (22.0, 4), (23.0, 6), (24.0, 2), (25.0, 1), (26.0, 4), (27.0, 2), (28.0, 1), (29.0, 3), (30.0, 3), (31.0, 2), (32.0, 3), (33.0, 4), (34.0, 1), (35.0, 5), (36.0, 5), (37.0, 4), (38.0, 1), (39.0, 4), (40.0, 5), (41.0, 2), (43.0, 1), (44.0, 1), (45.0, 2), (46.0, 1), (47.0, 1), (48.0, 1), (50.0, 2), (51.0, 1), (54.0, 1), (56.0, 1), (59.0, 2), (60.0, 1), (61.0, 1), (62.0, 1), (63.0, 2), (65.0, 2), (67.0, 1), (69.0, 2), (70.0, 2), (71.0, 2), (73.0, 1), (74.0, 3), (76.0, 3), (79.0, 1), (81.0, 1), (82.0, 1), (83.0, 1), (85.0, 1), (86.0, 1), (87.0, 1), (90.0, 2), (93.0, 1), (94.0, 2), (97.0, 1), (100.0, 1), (101.0, 2), (102.0, 1), (103.0, 1), (105.0, 1), (106.0, 1), (107.0, 2), (108.0, 1), (109.0, 1), (111.0, 2), (112.0, 2), (115.0, 1), (119.0, 1), (124.0, 1), (129.0, 1), (131.0, 2), (135.0, 1), (136.0, 1), (137.0, 1), (138.0, 1), (141.0, 2), (147.0, 1), (152.0, 1), (153.0, 1), (156.0, 1), (157.0, 2), (158.0, 1), (159.0, 1), (161.0, 3), (163.0, 1), (165.0, 1), (167.0, 1), (169.0, 1), (172.0, 2), (173.0, 1), (175.0, 1), (178.0, 1), (183.0, 1), (185.0, 2), (189.0, 1), (196.0, 2), (198.0, 2), (199.0, 1), (206.0, 1), (208.0, 2), (211.0, 1), (212.0, 1), (213.0, 1), (215.0, 2), (218.0, 1), (220.0, 1), (227.0, 1), (231.0, 1), (236.0, 2), (238.0, 1), (244.0, 1), (246.0, 2), (248.0, 1), (256.0, 1), (262.0, 1), (269.0, 1), (271.0, 2), (272.0, 1), (275.0, 1), (278.0, 1), (280.0, 1), (284.0, 2), (290.0, 2), (292.0, 1), (293.0, 1), (295.0, 1), (296.0, 1), (305.0, 1), (306.0, 1), (308.0, 1), (310.0, 1), (315.0, 1), (317.0, 1), (328.0, 1), (337.0, 1), (341.0, 1), (347.0, 1), (352.0, 1), (355.0, 2), (366.0, 1), (367.0, 1), (369.0, 1), (371.0, 1), (372.0, 1), (382.0, 1), (395.0, 1), (439.0, 1), (592.0, 1)]\n",
      "[(0.0, 1343), (1.0, 399), (2.0, 249), (3.0, 154), (4.0, 111), (5.0, 65), (6.0, 52), (7.0, 38), (8.0, 22), (9.0, 17), (10.0, 15), (11.0, 21), (12.0, 5), (13.0, 2), (14.0, 3), (15.0, 1), (19.0, 1), (21.0, 2)]\n",
      "[(0.0, 1821), (1.0, 165), (2.0, 61), (3.0, 43), (4.0, 23), (5.0, 18), (6.0, 23), (7.0, 15), (8.0, 15), (9.0, 14), (10.0, 13), (11.0, 9), (12.0, 5), (13.0, 8), (14.0, 5), (15.0, 10), (16.0, 6), (17.0, 8), (18.0, 5), (19.0, 3), (20.0, 5), (21.0, 2), (22.0, 4), (23.0, 6), (24.0, 9), (25.0, 9), (26.0, 2), (27.0, 3), (28.0, 3), (29.0, 4), (30.0, 4), (31.0, 2), (32.0, 3), (33.0, 2), (35.0, 1), (36.0, 2), (37.0, 2), (38.0, 2), (39.0, 3), (40.0, 2), (41.0, 2), (42.0, 1), (43.0, 1), (45.0, 2), (46.0, 3), (47.0, 2), (48.0, 2), (49.0, 1), (50.0, 1), (51.0, 1), (52.0, 2), (53.0, 1), (54.0, 2), (55.0, 3), (60.0, 2), (62.0, 3), (63.0, 1), (66.0, 2), (69.0, 1), (70.0, 1), (71.0, 2), (74.0, 1), (75.0, 1), (77.0, 2), (79.0, 3), (82.0, 4), (84.0, 3), (85.0, 1), (87.0, 1), (89.0, 1), (91.0, 1), (92.0, 1), (93.0, 1), (98.0, 1), (99.0, 1), (102.0, 1), (103.0, 2), (104.0, 1), (105.0, 1), (109.0, 1), (110.0, 2), (111.0, 2), (114.0, 1), (115.0, 1), (118.0, 2), (123.0, 1), (132.0, 1), (136.0, 1), (141.0, 1), (143.0, 1), (144.0, 1), (145.0, 1), (149.0, 1), (155.0, 1), (157.0, 1), (160.0, 1), (161.0, 1), (162.0, 1), (166.0, 1), (171.0, 2), (173.0, 1), (175.0, 1), (182.0, 1), (184.0, 1), (187.0, 1), (188.0, 1), (195.0, 1), (203.0, 1), (208.0, 1), (210.0, 1), (211.0, 1), (220.0, 1), (227.0, 1), (232.0, 1), (234.0, 1), (237.0, 3), (240.0, 1), (241.0, 1), (244.0, 1), (249.0, 1), (256.0, 2), (259.0, 1), (262.0, 1), (268.0, 1), (278.0, 1), (279.0, 1), (283.0, 1), (285.0, 1), (289.0, 2), (293.0, 1), (294.0, 1), (299.0, 2), (301.0, 1), (307.0, 1), (310.0, 1), (311.0, 1), (314.0, 1), (318.0, 1), (319.0, 1), (326.0, 1), (329.0, 1), (332.0, 1), (339.0, 1), (341.0, 1), (345.0, 1), (348.0, 1), (349.0, 1), (350.0, 1), (358.0, 1), (359.0, 1), (362.0, 1), (364.0, 1), (368.0, 1), (371.0, 2), (372.0, 1), (377.0, 1), (383.0, 1), (387.0, 1), (393.0, 1), (402.0, 1), (405.0, 1), (426.0, 1), (449.0, 1), (454.0, 1), (497.0, 1), (528.0, 1)]\n",
      "[(0.0, 1799), (1.0, 171), (2.0, 116), (3.0, 65), (4.0, 53), (5.0, 63), (6.0, 46), (7.0, 35), (8.0, 25), (9.0, 23), (10.0, 9), (11.0, 17), (12.0, 13), (13.0, 13), (14.0, 9), (15.0, 8), (16.0, 6), (17.0, 3), (18.0, 2), (19.0, 4), (20.0, 3), (21.0, 4), (22.0, 2), (23.0, 1), (24.0, 3), (26.0, 2), (27.0, 2), (30.0, 1), (31.0, 1), (32.0, 1)]\n"
     ]
    }
   ],
   "source": [
    "# tuples: (number of instances with particular number of burglaries, number of burglaries)\n",
    "\n",
    "print(df_to_burglaries_dict(result_a))\n",
    "print(df_to_burglaries_dict(result_b))\n",
    "print(df_to_burglaries_dict(result_c))\n",
    "print(df_to_burglaries_dict(result_d))\n"
   ]
  },
  {
   "cell_type": "code",
   "execution_count": 75,
   "metadata": {},
   "outputs": [
    {
     "name": "stdout",
     "output_type": "stream",
     "text": [
      "normalized mean, std, median A:\n",
      "(0.0492996, 0.18619552814641033, 0.0)\n",
      "normalized mean, std, median B:\n",
      "(0.053623880000000006, 0.0895652695231109, 0.0)\n",
      "normalized mean, std, median C:\n",
      "(0.04950332, 0.20142750443967558, 0.0)\n",
      "normalized mean, std, median D:\n",
      "(0.05395320000000001, 0.13282454572005242, 0.0)\n"
     ]
    }
   ],
   "source": [
    "print(\"normalized mean, std, median A:\")\n",
    "print(df_to_burglaries_norm(result_a, 271)[2:5])\n",
    "print(\"normalized mean, std, median B:\")\n",
    "print(df_to_burglaries_norm(result_b, 27)[2:5])\n",
    "print(\"normalized mean, std, median C:\")\n",
    "print(df_to_burglaries_norm(result_c, 271)[2:5])\n",
    "print(\"normalized mean, std, median D:\")\n",
    "print(df_to_burglaries_norm(result_d, 27)[2:5])"
   ]
  },
  {
   "cell_type": "code",
   "execution_count": 102,
   "metadata": {},
   "outputs": [
    {
     "data": {
      "image/png": "[encoded data removed]",
      "text/plain": [
       "<Figure size 432x288 with 1 Axes>"
      ]
     },
     "metadata": {
      "needs_background": "light"
     },
     "output_type": "display_data"
    }
   ],
   "source": [
    "# mean and std are used for this plot, based on df\n",
    "\n",
    "mu_a = df_to_burglaries_norm(result_a, 271)[2]\n",
    "sigma_a = df_to_burglaries_norm(result_a, 271)[3]\n",
    "\n",
    "mu_b = df_to_burglaries_norm(result_b, 27)[2]\n",
    "sigma_b = df_to_burglaries_norm(result_b, 27)[3]\n",
    "\n",
    "mu_c = df_to_burglaries_norm(result_c, 271)[2]\n",
    "sigma_c = df_to_burglaries_norm(result_c, 271)[3]\n",
    "\n",
    "mu_d = df_to_burglaries_norm(result_d, 27)[2]\n",
    "sigma_d = df_to_burglaries_norm(result_d, 27)[3]\n",
    "\n",
    "\n",
    "x = np.linspace(mu_b - 3*sigma_b, mu_b + 3*sigma_b, 100)\n",
    "#x = np.linspace(-1.5, 1.5, 100)\n",
    "\n",
    "plt.plot(x, stats.norm.pdf(x, mu_a, sigma_a), label=\"a\", color=\"blue\")\n",
    "plt.plot(x, stats.norm.pdf(x, mu_b, sigma_b), label=\"b\", color=\"red\")\n",
    "plt.plot(x, stats.norm.pdf(x, mu_c, sigma_c), label=\"c\", color=\"green\")\n",
    "plt.plot(x, stats.norm.pdf(x, mu_d, sigma_d), label=\"d\", color=\"yellow\")\n",
    "\n",
    "plt.axvline(mu_c, linestyle=\"dashed\", label=\"mean of c\", color=\"black\")\n",
    "plt.axvline(mu_d, linestyle=\"dotted\", label=\"mean of d\", color=\"black\")\n",
    "\n",
    "\n",
    "\n",
    "plt.title(\"Probability density of burglaries per house\\nnormalized by number of burglars on the grid\")\n",
    "plt.legend()\n",
    "plt.xlabel(\"Normalized mean and standard deviation of burglaries per house\")\n",
    "plt.ylabel(\"Probability density\")\n",
    "plt.savefig(\"probability_new.png\")\n",
    "plt.show()"
   ]
  },
  {
   "cell_type": "code",
   "execution_count": 104,
   "metadata": {},
   "outputs": [
    {
     "data": {
      "image/png": "[encoded data removed]",
      "text/plain": [
       "<Figure size 432x288 with 1 Axes>"
      ]
     },
     "metadata": {
      "needs_background": "light"
     },
     "output_type": "display_data"
    }
   ],
   "source": [
    "# dictionary is used for this plot\n",
    "\n",
    "a_list = df_to_burglaries_dict(result_a)\n",
    "b_list = df_to_burglaries_dict(result_b)\n",
    "c_list = df_to_burglaries_dict(result_c)\n",
    "d_list = df_to_burglaries_dict(result_d)\n",
    "\n",
    "xa, ya = zip(*a_list)\n",
    "xb,yb = zip(*b_list)\n",
    "xc, yc = zip(*c_list)\n",
    "xd,yd = zip(*d_list)\n",
    "\n",
    "plt.plot(xa, ya, label = \"a\", color=\"blue\")\n",
    "plt.plot(xb, yb, label = \"b\", color=\"green\")\n",
    "plt.plot(xc, yc, label = \"c\", color=\"yellow\")\n",
    "plt.plot(xd, yd, label = \"d\", color=\"red\")\n",
    "#plt.xlim(0, 7)                                                                   # include this for scaling\n",
    "plt.title(\"Burglaries at each house\\n(a,c: 271 burglars; b,d: 27 burglars)\")\n",
    "plt.xlabel(\"Number of burglaries per house\")\n",
    "plt.ylabel(\"Houses with particular amount of burglaries\")\n",
    "plt.legend()\n",
    "plt.savefig(\"buglaries_limit.png\")\n",
    "plt.show()"
   ]
  },
  {
   "cell_type": "markdown",
   "metadata": {},
   "source": [
    "# Hotspot Analysis"
   ]
  },
  {
   "cell_type": "code",
   "execution_count": 78,
   "metadata": {},
   "outputs": [
    {
     "data": {
      "text/plain": [
       "pandas.core.frame.DataFrame"
      ]
     },
     "execution_count": 78,
     "metadata": {},
     "output_type": "execute_result"
    }
   ],
   "source": [
    "result_a\n",
    "type(result_a)"
   ]
  },
  {
   "cell_type": "code",
   "execution_count": 79,
   "metadata": {},
   "outputs": [
    {
     "data": {
      "text/plain": [
       "<pandas.core.groupby.generic.DataFrameGroupBy object at 0x67f2657f6350>"
      ]
     },
     "execution_count": 79,
     "metadata": {},
     "output_type": "execute_result"
    }
   ],
   "source": [
    "result_a.groupby(by=[\"RunId\", \"iteration\", \"Step\"])"
   ]
  },
  {
   "cell_type": "code",
   "execution_count": 80,
   "metadata": {},
   "outputs": [
    {
     "data": {
      "text/plain": [
       "RunId                 2.0\n",
       "iteration             2.0\n",
       "Step                730.0\n",
       "Active Burglars      12.8\n",
       "Hotspots            113.2\n",
       "Total Hotspots     3633.0\n",
       "dtype: float64"
      ]
     },
     "execution_count": 80,
     "metadata": {},
     "output_type": "execute_result"
    }
   ],
   "source": [
    "\n",
    "result_d[['RunId', 'iteration','Step', 'Active Burglars','Hotspots', 'Total Hotspots']].mean()"
   ]
  },
  {
   "cell_type": "code",
   "execution_count": 81,
   "metadata": {},
   "outputs": [],
   "source": [
    "hotspots_a = result_a[['RunId', 'iteration','Step', 'Active Burglars','Hotspots', 'Total Hotspots']].copy()\n",
    "hotspots_b = result_b[['RunId', 'iteration','Step', 'Active Burglars','Hotspots', 'Total Hotspots']].copy()\n",
    "hotspots_c = result_c[['RunId', 'iteration','Step', 'Active Burglars','Hotspots', 'Total Hotspots']].copy()\n",
    "hotspots_d = result_d[['RunId', 'iteration','Step', 'Active Burglars','Hotspots', 'Total Hotspots']].copy()\n"
   ]
  },
  {
   "cell_type": "code",
   "execution_count": 82,
   "metadata": {},
   "outputs": [
    {
     "data": {
      "text/html": [
       "<div>\n",
       "<style scoped>\n",
       "    .dataframe tbody tr th:only-of-type {\n",
       "        vertical-align: middle;\n",
       "    }\n",
       "\n",
       "    .dataframe tbody tr th {\n",
       "        vertical-align: top;\n",
       "    }\n",
       "\n",
       "    .dataframe thead th {\n",
       "        text-align: right;\n",
       "    }\n",
       "</style>\n",
       "<table border=\"1\" class=\"dataframe\">\n",
       "  <thead>\n",
       "    <tr style=\"text-align: right;\">\n",
       "      <th></th>\n",
       "      <th>RunId</th>\n",
       "      <th>iteration</th>\n",
       "      <th>Step</th>\n",
       "      <th>Active Burglars</th>\n",
       "      <th>Hotspots</th>\n",
       "      <th>Total Hotspots</th>\n",
       "    </tr>\n",
       "  </thead>\n",
       "  <tbody>\n",
       "    <tr>\n",
       "      <th>0</th>\n",
       "      <td>0</td>\n",
       "      <td>0</td>\n",
       "      <td>730</td>\n",
       "      <td>10</td>\n",
       "      <td>100</td>\n",
       "      <td>3635</td>\n",
       "    </tr>\n",
       "    <tr>\n",
       "      <th>1</th>\n",
       "      <td>0</td>\n",
       "      <td>0</td>\n",
       "      <td>730</td>\n",
       "      <td>10</td>\n",
       "      <td>100</td>\n",
       "      <td>3635</td>\n",
       "    </tr>\n",
       "    <tr>\n",
       "      <th>2</th>\n",
       "      <td>0</td>\n",
       "      <td>0</td>\n",
       "      <td>730</td>\n",
       "      <td>10</td>\n",
       "      <td>100</td>\n",
       "      <td>3635</td>\n",
       "    </tr>\n",
       "    <tr>\n",
       "      <th>3</th>\n",
       "      <td>0</td>\n",
       "      <td>0</td>\n",
       "      <td>730</td>\n",
       "      <td>10</td>\n",
       "      <td>100</td>\n",
       "      <td>3635</td>\n",
       "    </tr>\n",
       "    <tr>\n",
       "      <th>4</th>\n",
       "      <td>0</td>\n",
       "      <td>0</td>\n",
       "      <td>730</td>\n",
       "      <td>10</td>\n",
       "      <td>100</td>\n",
       "      <td>3635</td>\n",
       "    </tr>\n",
       "  </tbody>\n",
       "</table>\n",
       "</div>"
      ],
      "text/plain": [
       "   RunId  iteration  Step  Active Burglars  Hotspots  Total Hotspots\n",
       "0      0          0   730               10       100            3635\n",
       "1      0          0   730               10       100            3635\n",
       "2      0          0   730               10       100            3635\n",
       "3      0          0   730               10       100            3635\n",
       "4      0          0   730               10       100            3635"
      ]
     },
     "execution_count": 82,
     "metadata": {},
     "output_type": "execute_result"
    }
   ],
   "source": [
    "hotspots_d.head()"
   ]
  },
  {
   "cell_type": "code",
   "execution_count": 128,
   "metadata": {},
   "outputs": [
    {
     "data": {
      "image/png": "[encoded data removed]",
      "text/plain": [
       "<Figure size 432x288 with 1 Axes>"
      ]
     },
     "metadata": {
      "needs_background": "light"
     },
     "output_type": "display_data"
    }
   ],
   "source": [
    "boxplot_df = pd.DataFrame({\n",
    "    'A': hotspots_a['Total Hotspots'],\n",
    "    'C': hotspots_c['Total Hotspots'],\n",
    "})\n",
    "plt.boxplot(boxplot_df, labels=[\"A\", \"C\"])\n",
    "plt.ylabel(\"Hotspots\")\n",
    "plt.savefig(\"hotspots_a_c.png\")\n",
    "plt.show()"
   ]
  },
  {
   "cell_type": "code",
   "execution_count": 129,
   "metadata": {},
   "outputs": [
    {
     "data": {
      "image/png": "[encoded data removed]",
      "text/plain": [
       "<Figure size 432x288 with 1 Axes>"
      ]
     },
     "metadata": {
      "needs_background": "light"
     },
     "output_type": "display_data"
    }
   ],
   "source": [
    "boxplot_df = pd.DataFrame({\n",
    "    'B': hotspots_b['Total Hotspots'],\n",
    "    'D': hotspots_d['Total Hotspots'],\n",
    "})\n",
    "plt.boxplot(boxplot_df, labels=[\"B\", \"D\"])\n",
    "plt.ylabel(\"Hotspots\")\n",
    "plt.savefig(\"hotspots_b_d.png\")\n",
    "plt.show()"
   ]
  },
  {
   "cell_type": "markdown",
   "metadata": {},
   "source": [
    "## Model A - Hotspots"
   ]
  },
  {
   "cell_type": "code",
   "execution_count": 126,
   "metadata": {},
   "outputs": [],
   "source": [
    "steps = 730\n",
    "def run_model(params, name):\n",
    "    model = BurglaryModel(**params)\n",
    "    while model.schedule.steps < steps:\n",
    "        model.step()\n",
    "    model_df = model.datacollector.get_model_vars_dataframe()\n",
    "    plt.plot(model_df[['Active Burglars', 'Hotspots']], label=['Active Burglars', 'Active Hotspots'])\n",
    "    plt.legend(loc=1)\n",
    "    plt.savefig(str(name) + \".png\")\n",
    "    plt.show()"
   ]
  },
  {
   "cell_type": "code",
   "execution_count": 127,
   "metadata": {},
   "outputs": [
    {
     "name": "stderr",
     "output_type": "stream",
     "text": [
      "/home/augustin/UNI/cmss/.venv/lib/python3.10/site-packages/mesa/space.py:209: UserWarning: `neighbor_iter` is deprecated in favor of `iter_neighbors` and will be removed in the subsequent version.\n",
      "  warn(\n"
     ]
    },
    {
     "data": {
      "image/png": "[encoded data removed]",
      "text/plain": [
       "<Figure size 432x288 with 1 Axes>"
      ]
     },
     "metadata": {
      "needs_background": "light"
     },
     "output_type": "display_data"
    },
    {
     "name": "stderr",
     "output_type": "stream",
     "text": [
      "/home/augustin/UNI/cmss/.venv/lib/python3.10/site-packages/mesa/space.py:209: UserWarning: `neighbor_iter` is deprecated in favor of `iter_neighbors` and will be removed in the subsequent version.\n",
      "  warn(\n"
     ]
    },
    {
     "data": {
      "image/png": "[encoded data removed]",
      "text/plain": [
       "<Figure size 432x288 with 1 Axes>"
      ]
     },
     "metadata": {
      "needs_background": "light"
     },
     "output_type": "display_data"
    },
    {
     "name": "stderr",
     "output_type": "stream",
     "text": [
      "/home/augustin/UNI/cmss/.venv/lib/python3.10/site-packages/mesa/space.py:209: UserWarning: `neighbor_iter` is deprecated in favor of `iter_neighbors` and will be removed in the subsequent version.\n",
      "  warn(\n"
     ]
    },
    {
     "data": {
      "image/png": "[encoded data removed]",
      "text/plain": [
       "<Figure size 432x288 with 1 Axes>"
      ]
     },
     "metadata": {
      "needs_background": "light"
     },
     "output_type": "display_data"
    },
    {
     "name": "stderr",
     "output_type": "stream",
     "text": [
      "/home/augustin/UNI/cmss/.venv/lib/python3.10/site-packages/mesa/space.py:209: UserWarning: `neighbor_iter` is deprecated in favor of `iter_neighbors` and will be removed in the subsequent version.\n",
      "  warn(\n"
     ]
    },
    {
     "data": {
      "image/png": "[encoded data removed]",
      "text/plain": [
       "<Figure size 432x288 with 1 Axes>"
      ]
     },
     "metadata": {
      "needs_background": "light"
     },
     "output_type": "display_data"
    }
   ],
   "source": [
    "params_all = [params_a, params_b, params_c, params_d]\n",
    "for i, params in enumerate(params_all):\n",
    "    run_model(params, i)"
   ]
  }
 ],
 "metadata": {
  "deepnote": {},
  "deepnote_execution_queue": [],
  "deepnote_notebook_id": "6fb7e7e3-66bc-4c1f-acca-d01d43e58fa9",
  "kernelspec": {
   "display_name": "Python 3.10.5 ('.venv')",
   "language": "python",
   "name": "python3"
  },
  "language_info": {
   "codemirror_mode": {
    "name": "ipython",
    "version": 3
   },
   "file_extension": ".py",
   "mimetype": "text/x-python",
   "name": "python",
   "nbconvert_exporter": "python",
   "pygments_lexer": "ipython3",
   "version": "3.10.5"
  },
  "orig_nbformat": 2,
  "vscode": {
   "interpreter": {
    "hash": "a83e0b5563bbeb2d4315a4e613cd8ef094c63d02d68fdafa1b64473069eecf0d"
   }
  }
 },
 "nbformat": 4,
 "nbformat_minor": 2
}
